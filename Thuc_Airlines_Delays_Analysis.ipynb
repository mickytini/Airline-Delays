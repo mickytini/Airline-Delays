{
  "nbformat": 4,
  "nbformat_minor": 0,
  "metadata": {
    "colab": {
      "provenance": []
    },
    "kernelspec": {
      "name": "python3",
      "display_name": "Python 3"
    },
    "language_info": {
      "name": "python"
    }
  },
  "cells": [
    {
      "cell_type": "markdown",
      "source": [
        "# 1. **Input data**\n",
        "\n",
        "My data is taken from Kaggle (https://www.kaggle.com/datasets/eugeniyosetrov/airline-delays). And you know, this website can only download the data but cannot link to it in Google Colab so I downloaded it and uploaded it to my Github (https://github.com/mickytini/Airline-Delays) so I can link to it as input as below:"
      ],
      "metadata": {
        "id": "jxQ_3Hhl0Ml4"
      }
    },
    {
      "cell_type": "code",
      "execution_count": 1,
      "metadata": {
        "id": "17Bq7ryI_KZS"
      },
      "outputs": [],
      "source": [
        "import pandas as pd\n",
        "import numpy as np\n",
        "import matplotlib.pyplot as plt\n",
        "import seaborn as sns\n",
        "import statsmodels.api as sm\n",
        "from sklearn.model_selection import train_test_split\n",
        "\n",
        "# Load the dataset\n",
        "df = pd.read_csv('https://raw.githubusercontent.com/mickytini/Airline-Delays/refs/heads/main/airline_delay.csv')"
      ]
    },
    {
      "cell_type": "markdown",
      "source": [
        "## **Data overview**"
      ],
      "metadata": {
        "id": "FnWmW7-l14Xw"
      }
    },
    {
      "cell_type": "code",
      "source": [
        "print(df.head())"
      ],
      "metadata": {
        "colab": {
          "base_uri": "https://localhost:8080/"
        },
        "id": "rzehPvw31-jj",
        "outputId": "9932882c-f3d8-4dab-bc64-6dac15a378f6"
      },
      "execution_count": 2,
      "outputs": [
        {
          "output_type": "stream",
          "name": "stdout",
          "text": [
            "   year  month carrier       carrier_name airport  \\\n",
            "0  2020     12      9E  Endeavor Air Inc.     ABE   \n",
            "1  2020     12      9E  Endeavor Air Inc.     ABY   \n",
            "2  2020     12      9E  Endeavor Air Inc.     AEX   \n",
            "3  2020     12      9E  Endeavor Air Inc.     AGS   \n",
            "4  2020     12      9E  Endeavor Air Inc.     ALB   \n",
            "\n",
            "                                        airport_name  arr_flights  arr_del15  \\\n",
            "0  Allentown/Bethlehem/Easton, PA: Lehigh Valley ...         44.0        3.0   \n",
            "1             Albany, GA: Southwest Georgia Regional         90.0        1.0   \n",
            "2           Alexandria, LA: Alexandria International         88.0        8.0   \n",
            "3        Augusta, GA: Augusta Regional at Bush Field        184.0        9.0   \n",
            "4                   Albany, NY: Albany International         76.0       11.0   \n",
            "\n",
            "   carrier_ct  weather_ct  ...  security_ct  late_aircraft_ct  arr_cancelled  \\\n",
            "0        1.63         0.0  ...          0.0              1.25            0.0   \n",
            "1        0.96         0.0  ...          0.0              0.00            0.0   \n",
            "2        5.75         0.0  ...          0.0              0.65            0.0   \n",
            "3        4.17         0.0  ...          0.0              3.00            0.0   \n",
            "4        4.78         0.0  ...          0.0              1.00            1.0   \n",
            "\n",
            "   arr_diverted  arr_delay  carrier_delay  weather_delay  nas_delay  \\\n",
            "0           1.0       89.0           56.0            0.0        3.0   \n",
            "1           0.0       23.0           22.0            0.0        1.0   \n",
            "2           1.0      338.0          265.0            0.0       45.0   \n",
            "3           0.0      508.0          192.0            0.0       92.0   \n",
            "4           0.0      692.0          398.0            0.0      178.0   \n",
            "\n",
            "   security_delay  late_aircraft_delay  \n",
            "0             0.0                 30.0  \n",
            "1             0.0                  0.0  \n",
            "2             0.0                 28.0  \n",
            "3             0.0                224.0  \n",
            "4             0.0                116.0  \n",
            "\n",
            "[5 rows x 21 columns]\n"
          ]
        }
      ]
    },
    {
      "cell_type": "code",
      "source": [
        "print(df.info())"
      ],
      "metadata": {
        "colab": {
          "base_uri": "https://localhost:8080/"
        },
        "id": "fDUsvqQWG8x9",
        "outputId": "8771b028-7a0f-4f51-da0c-e1a7b0fb6091"
      },
      "execution_count": 3,
      "outputs": [
        {
          "output_type": "stream",
          "name": "stdout",
          "text": [
            "<class 'pandas.core.frame.DataFrame'>\n",
            "RangeIndex: 3351 entries, 0 to 3350\n",
            "Data columns (total 21 columns):\n",
            " #   Column               Non-Null Count  Dtype  \n",
            "---  ------               --------------  -----  \n",
            " 0   year                 3351 non-null   int64  \n",
            " 1   month                3351 non-null   int64  \n",
            " 2   carrier              3351 non-null   object \n",
            " 3   carrier_name         3351 non-null   object \n",
            " 4   airport              3351 non-null   object \n",
            " 5   airport_name         3351 non-null   object \n",
            " 6   arr_flights          3343 non-null   float64\n",
            " 7   arr_del15            3343 non-null   float64\n",
            " 8   carrier_ct           3343 non-null   float64\n",
            " 9   weather_ct           3343 non-null   float64\n",
            " 10  nas_ct               3343 non-null   float64\n",
            " 11  security_ct          3343 non-null   float64\n",
            " 12  late_aircraft_ct     3343 non-null   float64\n",
            " 13  arr_cancelled        3343 non-null   float64\n",
            " 14  arr_diverted         3343 non-null   float64\n",
            " 15  arr_delay            3343 non-null   float64\n",
            " 16  carrier_delay        3343 non-null   float64\n",
            " 17  weather_delay        3343 non-null   float64\n",
            " 18  nas_delay            3343 non-null   float64\n",
            " 19  security_delay       3343 non-null   float64\n",
            " 20  late_aircraft_delay  3343 non-null   float64\n",
            "dtypes: float64(15), int64(2), object(4)\n",
            "memory usage: 549.9+ KB\n",
            "None\n"
          ]
        }
      ]
    },
    {
      "cell_type": "code",
      "source": [
        "print(df.describe())"
      ],
      "metadata": {
        "colab": {
          "base_uri": "https://localhost:8080/"
        },
        "id": "mWuBHRu2HBtU",
        "outputId": "9611d5de-c0fd-476e-9760-ed94ca88155e"
      },
      "execution_count": 4,
      "outputs": [
        {
          "output_type": "stream",
          "name": "stdout",
          "text": [
            "              year   month   arr_flights    arr_del15   carrier_ct  \\\n",
            "count  3351.000000  3351.0   3343.000000  3343.000000  3343.000000   \n",
            "mean   2019.459266    12.0    298.271014    50.995214    16.065337   \n",
            "std       0.498412     0.0    852.436335   146.484456    41.759516   \n",
            "min    2019.000000    12.0      1.000000     0.000000     0.000000   \n",
            "25%    2019.000000    12.0     35.000000     5.000000     1.490000   \n",
            "50%    2019.000000    12.0     83.000000    12.000000     4.750000   \n",
            "75%    2020.000000    12.0    194.500000    33.000000    12.255000   \n",
            "max    2020.000000    12.0  19713.000000  2289.000000   697.000000   \n",
            "\n",
            "        weather_ct       nas_ct  security_ct  late_aircraft_ct  arr_cancelled  \\\n",
            "count  3343.000000  3343.000000  3343.000000       3343.000000    3343.000000   \n",
            "mean      1.443144    16.183383     0.137320         17.166069       2.884535   \n",
            "std       4.821657    56.423008     0.646479         55.447043      10.126658   \n",
            "min       0.000000     0.000000     0.000000          0.000000       0.000000   \n",
            "25%       0.000000     0.820000     0.000000          0.900000       0.000000   \n",
            "50%       0.060000     2.980000     0.000000          3.280000       0.000000   \n",
            "75%       1.010000     8.870000     0.000000         10.240000       2.000000   \n",
            "max      89.420000  1039.540000    17.310000        819.660000     224.000000   \n",
            "\n",
            "       arr_diverted      arr_delay  carrier_delay  weather_delay    nas_delay  \\\n",
            "count   3343.000000    3343.000000    3343.000000    3343.000000   3343.00000   \n",
            "mean       0.575830    3333.868083    1144.763087     177.591385    749.57942   \n",
            "std        2.097884   10284.926623    3371.103512     734.343542   3190.50916   \n",
            "min        0.000000       0.000000       0.000000       0.000000      0.00000   \n",
            "25%        0.000000     230.000000      68.500000       0.000000     21.50000   \n",
            "50%        0.000000     746.000000     272.000000       3.000000    106.00000   \n",
            "75%        0.000000    2095.500000     830.500000      82.000000    362.00000   \n",
            "max       42.000000  160383.000000   55215.000000   14219.000000  82064.00000   \n",
            "\n",
            "       security_delay  late_aircraft_delay  \n",
            "count     3343.000000          3343.000000  \n",
            "mean         5.400838          1256.533353  \n",
            "std         27.161402          4184.451426  \n",
            "min          0.000000             0.000000  \n",
            "25%          0.000000            31.000000  \n",
            "50%          0.000000           205.000000  \n",
            "75%          0.000000           724.000000  \n",
            "max        553.000000         75179.000000  \n"
          ]
        }
      ]
    },
    {
      "cell_type": "markdown",
      "source": [
        "## **Check for Missing Values**"
      ],
      "metadata": {
        "id": "toXwTVkC2FLL"
      }
    },
    {
      "cell_type": "code",
      "source": [
        "print(df.isnull().sum())"
      ],
      "metadata": {
        "colab": {
          "base_uri": "https://localhost:8080/"
        },
        "id": "N1mezS4YHGz0",
        "outputId": "fa14571e-39a5-410e-cbcd-170594dcb779"
      },
      "execution_count": 5,
      "outputs": [
        {
          "output_type": "stream",
          "name": "stdout",
          "text": [
            "year                   0\n",
            "month                  0\n",
            "carrier                0\n",
            "carrier_name           0\n",
            "airport                0\n",
            "airport_name           0\n",
            "arr_flights            8\n",
            "arr_del15              8\n",
            "carrier_ct             8\n",
            "weather_ct             8\n",
            "nas_ct                 8\n",
            "security_ct            8\n",
            "late_aircraft_ct       8\n",
            "arr_cancelled          8\n",
            "arr_diverted           8\n",
            "arr_delay              8\n",
            "carrier_delay          8\n",
            "weather_delay          8\n",
            "nas_delay              8\n",
            "security_delay         8\n",
            "late_aircraft_delay    8\n",
            "dtype: int64\n"
          ]
        }
      ]
    },
    {
      "cell_type": "markdown",
      "source": [
        "# 2. **Data Cleaning**"
      ],
      "metadata": {
        "id": "-mns2Bjj2Npi"
      }
    },
    {
      "cell_type": "markdown",
      "source": [
        "## **Handle Missing Values**"
      ],
      "metadata": {
        "id": "BN_Jz4mo2Tir"
      }
    },
    {
      "cell_type": "code",
      "source": [
        "# Fill missing values with 0\n",
        "df.fillna(0, inplace=True)"
      ],
      "metadata": {
        "id": "I0XNLyDnHKUT"
      },
      "execution_count": 6,
      "outputs": []
    },
    {
      "cell_type": "code",
      "source": [
        "# Check data again\n",
        "print(df.isnull().sum())"
      ],
      "metadata": {
        "colab": {
          "base_uri": "https://localhost:8080/"
        },
        "id": "CjG_4TZV3OFX",
        "outputId": "a571fd19-d3a7-4d17-c299-e0a405c9aeef"
      },
      "execution_count": 7,
      "outputs": [
        {
          "output_type": "stream",
          "name": "stdout",
          "text": [
            "year                   0\n",
            "month                  0\n",
            "carrier                0\n",
            "carrier_name           0\n",
            "airport                0\n",
            "airport_name           0\n",
            "arr_flights            0\n",
            "arr_del15              0\n",
            "carrier_ct             0\n",
            "weather_ct             0\n",
            "nas_ct                 0\n",
            "security_ct            0\n",
            "late_aircraft_ct       0\n",
            "arr_cancelled          0\n",
            "arr_diverted           0\n",
            "arr_delay              0\n",
            "carrier_delay          0\n",
            "weather_delay          0\n",
            "nas_delay              0\n",
            "security_delay         0\n",
            "late_aircraft_delay    0\n",
            "dtype: int64\n"
          ]
        }
      ]
    },
    {
      "cell_type": "markdown",
      "source": [
        "## **Check for Outliers**:\n",
        "\n",
        "The type of data that our data has is statistical data that reflects the situation that has occurred.\n",
        "The data in columns: `arr_flights`, `arr_del15`, `carrier_ct`, `weather_ct`, `nas_ct`,`security_ct`, `late_aircraft_ct`, `arr_cancelled`, `arr_diverted` are statistics of the number of flights that had problems corresponding to the `airport`,`carrier` columns,...\n",
        "\n",
        "Therefore, I think there is no need to check outliers in this case."
      ],
      "metadata": {
        "id": "RAhTF9af2dQp"
      }
    },
    {
      "cell_type": "markdown",
      "source": [
        "## **Standardize Formats:** Ensure consistent formats for categorical columns"
      ],
      "metadata": {
        "id": "ivm1h6uh24cx"
      }
    },
    {
      "cell_type": "code",
      "source": [
        "df['carrier'] = df['carrier'].str.upper()\n",
        "df['airport'] = df['airport'].str.upper()"
      ],
      "metadata": {
        "id": "tfFp_S87Haoy"
      },
      "execution_count": 8,
      "outputs": []
    },
    {
      "cell_type": "markdown",
      "source": [
        "# 3. **Exploratory Data Analysis (EDA)**"
      ],
      "metadata": {
        "id": "4Oe_U7DE3XqC"
      }
    },
    {
      "cell_type": "markdown",
      "source": [
        "## **Total flights per year**"
      ],
      "metadata": {
        "id": "0YVh6oReoab9"
      }
    },
    {
      "cell_type": "code",
      "source": [
        "total_flights = df.groupby(['year'])['arr_flights'].sum().plot(kind='bar')\n",
        "plt.xlabel('Year')\n",
        "plt.xticks(rotation=0)\n",
        "plt.ylabel('Number of Flights')\n",
        "plt.title('Total flights per year')\n",
        "plt.show()"
      ],
      "metadata": {
        "colab": {
          "base_uri": "https://localhost:8080/",
          "height": 472
        },
        "id": "LyGW5nJpod0A",
        "outputId": "26c084cd-ec4e-4aa8-ebb6-6dbdf6e0011d"
      },
      "execution_count": 9,
      "outputs": [
        {
          "output_type": "display_data",
          "data": {
            "text/plain": [
              "<Figure size 640x480 with 1 Axes>"
            ],
            "image/png": "[encoded data removed]"
          },
          "metadata": {}
        }
      ]
    },
    {
      "cell_type": "markdown",
      "source": [
        "## **Total delay time per year**"
      ],
      "metadata": {
        "id": "DdI9aYPlzEVY"
      }
    },
    {
      "cell_type": "code",
      "source": [
        "# Calculate total delay time in hours for each year\n",
        "total_delaytime_2019 = df[df['year'] == 2019]['arr_delay'].sum() / 60\n",
        "total_delaytime_2020 = df[df['year'] == 2020]['arr_delay'].sum() / 60\n",
        "\n",
        "# Visualize using a bar chart\n",
        "data_delay = {'Year': [2019, 2020], 'Total Delay (Hours)': [total_delaytime_2019, total_delaytime_2020]}\n",
        "df_delay = pd.DataFrame(data_delay)\n",
        "\n",
        "plt.figure(figsize=(5, 5))\n",
        "sns.barplot(x='Year', y='Total Delay (Hours)', data=df_delay)\n",
        "plt.title('Total Delay time per year')\n",
        "plt.xlabel('Year')\n",
        "plt.ylabel('Total Delay time (Hours)')\n",
        "\n",
        "plt.show()"
      ],
      "metadata": {
        "colab": {
          "base_uri": "https://localhost:8080/",
          "height": 487
        },
        "id": "79paUdctzIiX",
        "outputId": "6089cbbb-806f-4e14-88a8-3c487580f4be"
      },
      "execution_count": 10,
      "outputs": [
        {
          "output_type": "display_data",
          "data": {
            "text/plain": [
              "<Figure size 500x500 with 1 Axes>"
            ],
            "image/png": "[encoded data removed]"
          },
          "metadata": {}
        }
      ]
    },
    {
      "cell_type": "markdown",
      "source": [
        "## **Most delayed flights by airline**"
      ],
      "metadata": {
        "id": "xrcucOH8pbuY"
      }
    },
    {
      "cell_type": "code",
      "source": [
        "# Group by airline and calculate the total number of delayed flights\n",
        "airline_delay_counts = df.groupby('carrier')['arr_delay'].sum().sort_values(ascending=False)\n",
        "\n",
        "# Visualize using a bar chart\n",
        "plt.figure(figsize=(10, 5))\n",
        "sns.barplot(x=airline_delay_counts.index, y=airline_delay_counts.values)\n",
        "plt.title(\"Airlines with the Most Delayed Flights\")\n",
        "plt.xlabel(\"Airlines (IATA code)\")\n",
        "plt.ylabel(\"Total Delayed Flights\")\n",
        "plt.show()"
      ],
      "metadata": {
        "colab": {
          "base_uri": "https://localhost:8080/",
          "height": 487
        },
        "id": "CSD6y7FEptvv",
        "outputId": "aa91a561-93e5-4e21-f3d6-959b96b3e346"
      },
      "execution_count": 11,
      "outputs": [
        {
          "output_type": "display_data",
          "data": {
            "text/plain": [
              "<Figure size 1000x500 with 1 Axes>"
            ],
            "image/png": "[encoded data removed]"
          },
          "metadata": {}
        }
      ]
    },
    {
      "cell_type": "markdown",
      "source": [
        "## **Reasons for flight delayed by Airline**"
      ],
      "metadata": {
        "id": "2n406KAXrs4D"
      }
    },
    {
      "cell_type": "code",
      "source": [
        "cols = ['carrier', 'carrier_name', 'carrier_ct', 'weather_ct', 'nas_ct', 'security_ct', 'late_aircraft_ct']\n",
        "dfcols = df[cols]\n",
        "\n",
        "airlinecode = dfcols.groupby(['carrier', 'carrier_name']).sum().reset_index()\n",
        "airlinecode.plot(x='carrier', kind='bar', stacked=True)\n",
        "plt.xlabel('Airlines (IATA code)')\n",
        "plt.ylabel('Total Delayed Flights')\n",
        "plt.title('Reasons for flight delayed by Airline')\n",
        "plt.xticks(rotation=0)\n",
        "plt.show()\n"
      ],
      "metadata": {
        "id": "TekQSt1RruMW",
        "colab": {
          "base_uri": "https://localhost:8080/",
          "height": 472
        },
        "outputId": "c2f43a47-f5d7-4a9d-934f-e2edd5c3fb54"
      },
      "execution_count": 12,
      "outputs": [
        {
          "output_type": "display_data",
          "data": {
            "text/plain": [
              "<Figure size 640x480 with 1 Axes>"
            ],
            "image/png": "[encoded data removed]"
          },
          "metadata": {}
        }
      ]
    },
    {
      "cell_type": "markdown",
      "source": [
        "# 4. **Analysis**"
      ],
      "metadata": {
        "id": "_9x33m9w_ak_"
      }
    },
    {
      "cell_type": "markdown",
      "source": [
        "## **Top 10 Airlines with Highest Delay Rates**"
      ],
      "metadata": {
        "id": "XDR6gdllAph8"
      }
    },
    {
      "cell_type": "code",
      "source": [
        "# Airlines with significant delay rates\n",
        "airline_data = df.query('arr_flights > 0') #fillna\n",
        "airline_data['airline_delay_rate'] = (airline_data['arr_del15'] / airline_data['arr_flights']) * 100\n",
        "\n",
        "top_airlines = airline_data.groupby('carrier')['airline_delay_rate'].mean().nlargest(10)\n",
        "\n",
        "print(top_airlines)"
      ],
      "metadata": {
        "colab": {
          "base_uri": "https://localhost:8080/"
        },
        "id": "6GK4FmYBAWwa",
        "outputId": "7275d1ae-ea80-4093-81e8-0ff539b74827"
      },
      "execution_count": 13,
      "outputs": [
        {
          "output_type": "stream",
          "name": "stdout",
          "text": [
            "carrier\n",
            "B6    25.393469\n",
            "EV    23.702901\n",
            "YV    21.166910\n",
            "HA    17.690051\n",
            "OH    17.324604\n",
            "AS    17.270222\n",
            "G4    17.256466\n",
            "UA    16.649691\n",
            "WN    16.494024\n",
            "OO    16.432823\n",
            "Name: airline_delay_rate, dtype: float64\n"
          ]
        },
        {
          "output_type": "stream",
          "name": "stderr",
          "text": [
            "<ipython-input-13-1c2415c35439>:3: SettingWithCopyWarning: \n",
            "A value is trying to be set on a copy of a slice from a DataFrame.\n",
            "Try using .loc[row_indexer,col_indexer] = value instead\n",
            "\n",
            "See the caveats in the documentation: https://pandas.pydata.org/pandas-docs/stable/user_guide/indexing.html#returning-a-view-versus-a-copy\n",
            "  airline_data['airline_delay_rate'] = (airline_data['arr_del15'] / airline_data['arr_flights']) * 100\n"
          ]
        }
      ]
    },
    {
      "cell_type": "markdown",
      "source": [
        "## **Top 10 Airports with Highest Delay Rates**"
      ],
      "metadata": {
        "id": "inJC1AfLj7zn"
      }
    },
    {
      "cell_type": "code",
      "source": [
        "# Airports with significant delay rates\n",
        "airport_data = df.query('arr_flights > 0')\n",
        "airport_data['airport_delay_rate'] = (airport_data['arr_del15'] / airport_data['arr_flights']) * 100\n",
        "\n",
        "top_airports = airport_data.groupby('airport_name')['airport_delay_rate'].mean().nlargest(10)\n",
        "\n",
        "print(top_airports)"
      ],
      "metadata": {
        "colab": {
          "base_uri": "https://localhost:8080/"
        },
        "id": "yePd5MTyCP_l",
        "outputId": "4430f41a-1264-46d9-b1cc-4ba3abfaf69c"
      },
      "execution_count": 14,
      "outputs": [
        {
          "output_type": "stream",
          "name": "stdout",
          "text": [
            "airport_name\n",
            "Adak Island, AK: Adak                         50.694444\n",
            "Cold Bay, AK: Cold Bay Airport                50.000000\n",
            "Ponce, PR: Mercedita                          37.931034\n",
            "Aguadilla, PR: Rafael Hernandez               37.787764\n",
            "Nantucket, MA: Nantucket Memorial             33.333333\n",
            "Cody, WY: Yellowstone Regional                32.000000\n",
            "Concord, NC: Concord Padgett Regional         30.806776\n",
            "Worcester, MA: Worcester Regional             30.414747\n",
            "Aspen, CO: Aspen Pitkin County Sardy Field    28.109113\n",
            "Quincy, IL: Quincy Regional-Baldwin Field     27.777778\n",
            "Name: airport_delay_rate, dtype: float64\n"
          ]
        },
        {
          "output_type": "stream",
          "name": "stderr",
          "text": [
            "<ipython-input-14-7a2c2065eb34>:3: SettingWithCopyWarning: \n",
            "A value is trying to be set on a copy of a slice from a DataFrame.\n",
            "Try using .loc[row_indexer,col_indexer] = value instead\n",
            "\n",
            "See the caveats in the documentation: https://pandas.pydata.org/pandas-docs/stable/user_guide/indexing.html#returning-a-view-versus-a-copy\n",
            "  airport_data['airport_delay_rate'] = (airport_data['arr_del15'] / airport_data['arr_flights']) * 100\n"
          ]
        }
      ]
    },
    {
      "cell_type": "markdown",
      "source": [
        "## **Correlation Analysis for Delay Factors**"
      ],
      "metadata": {
        "id": "SrL4RMoHCz3Z"
      }
    },
    {
      "cell_type": "code",
      "source": [
        "# Correlation Matrix\n",
        "correlation_matrix = df[['arr_flights', 'carrier_ct', 'weather_ct', 'nas_ct', 'security_ct', 'late_aircraft_ct']].corr()\n",
        "correlation_matrix"
      ],
      "metadata": {
        "colab": {
          "base_uri": "https://localhost:8080/",
          "height": 238
        },
        "id": "XlRVER0DC23-",
        "outputId": "56e4ce2e-3c42-45ec-d529-815692c920e4"
      },
      "execution_count": 15,
      "outputs": [
        {
          "output_type": "execute_result",
          "data": {
            "text/plain": [
              "                  arr_flights  carrier_ct  weather_ct    nas_ct  security_ct  \\\n",
              "arr_flights          1.000000    0.913967    0.728359  0.821731     0.525766   \n",
              "carrier_ct           0.913967    1.000000    0.687357  0.741908     0.550580   \n",
              "weather_ct           0.728359    0.687357    1.000000  0.598231     0.329519   \n",
              "nas_ct               0.821731    0.741908    0.598231  1.000000     0.423153   \n",
              "security_ct          0.525766    0.550580    0.329519  0.423153     1.000000   \n",
              "late_aircraft_ct     0.859216    0.871011    0.625575  0.777875     0.513085   \n",
              "\n",
              "                  late_aircraft_ct  \n",
              "arr_flights               0.859216  \n",
              "carrier_ct                0.871011  \n",
              "weather_ct                0.625575  \n",
              "nas_ct                    0.777875  \n",
              "security_ct               0.513085  \n",
              "late_aircraft_ct          1.000000  "
            ],
            "text/html": [
              "\n",
              "  <div id=\"df-84143329-6ce8-4644-854c-b0f13f7452d5\" class=\"colab-df-container\">\n",
              "    <div>\n",
              "<style scoped>\n",
              "    .dataframe tbody tr th:only-of-type {\n",
              "        vertical-align: middle;\n",
              "    }\n",
              "\n",
              "    .dataframe tbody tr th {\n",
              "        vertical-align: top;\n",
              "    }\n",
              "\n",
              "    .dataframe thead th {\n",
              "        text-align: right;\n",
              "    }\n",
              "</style>\n",
              "<table border=\"1\" class=\"dataframe\">\n",
              "  <thead>\n",
              "    <tr style=\"text-align: right;\">\n",
              "      <th></th>\n",
              "      <th>arr_flights</th>\n",
              "      <th>carrier_ct</th>\n",
              "      <th>weather_ct</th>\n",
              "      <th>nas_ct</th>\n",
              "      <th>security_ct</th>\n",
              "      <th>late_aircraft_ct</th>\n",
              "    </tr>\n",
              "  </thead>\n",
              "  <tbody>\n",
              "    <tr>\n",
              "      <th>arr_flights</th>\n",
              "      <td>1.000000</td>\n",
              "      <td>0.913967</td>\n",
              "      <td>0.728359</td>\n",
              "      <td>0.821731</td>\n",
              "      <td>0.525766</td>\n",
              "      <td>0.859216</td>\n",
              "    </tr>\n",
              "    <tr>\n",
              "      <th>carrier_ct</th>\n",
              "      <td>0.913967</td>\n",
              "      <td>1.000000</td>\n",
              "      <td>0.687357</td>\n",
              "      <td>0.741908</td>\n",
              "      <td>0.550580</td>\n",
              "      <td>0.871011</td>\n",
              "    </tr>\n",
              "    <tr>\n",
              "      <th>weather_ct</th>\n",
              "      <td>0.728359</td>\n",
              "      <td>0.687357</td>\n",
              "      <td>1.000000</td>\n",
              "      <td>0.598231</td>\n",
              "      <td>0.329519</td>\n",
              "      <td>0.625575</td>\n",
              "    </tr>\n",
              "    <tr>\n",
              "      <th>nas_ct</th>\n",
              "      <td>0.821731</td>\n",
              "      <td>0.741908</td>\n",
              "      <td>0.598231</td>\n",
              "      <td>1.000000</td>\n",
              "      <td>0.423153</td>\n",
              "      <td>0.777875</td>\n",
              "    </tr>\n",
              "    <tr>\n",
              "      <th>security_ct</th>\n",
              "      <td>0.525766</td>\n",
              "      <td>0.550580</td>\n",
              "      <td>0.329519</td>\n",
              "      <td>0.423153</td>\n",
              "      <td>1.000000</td>\n",
              "      <td>0.513085</td>\n",
              "    </tr>\n",
              "    <tr>\n",
              "      <th>late_aircraft_ct</th>\n",
              "      <td>0.859216</td>\n",
              "      <td>0.871011</td>\n",
              "      <td>0.625575</td>\n",
              "      <td>0.777875</td>\n",
              "      <td>0.513085</td>\n",
              "      <td>1.000000</td>\n",
              "    </tr>\n",
              "  </tbody>\n",
              "</table>\n",
              "</div>\n",
              "    <div class=\"colab-df-buttons\">\n",
              "\n",
              "  <div class=\"colab-df-container\">\n",
              "    <button class=\"colab-df-convert\" onclick=\"convertToInteractive('df-84143329-6ce8-4644-854c-b0f13f7452d5')\"\n",
              "            title=\"Convert this dataframe to an interactive table.\"\n",
              "            style=\"display:none;\">\n",
              "\n",
              "  <svg xmlns=\"http://www.w3.org/2000/svg\" height=\"24px\" viewBox=\"0 -960 960 960\">\n",
              "    <path d=\"M120-120v-720h720v720H120Zm60-500h600v-160H180v160Zm220 220h160v-160H400v160Zm0 220h160v-160H400v160ZM180-400h160v-160H180v160Zm440 0h160v-160H620v160ZM180-180h160v-160H180v160Zm440 0h160v-160H620v160Z\"/>\n",
              "  </svg>\n",
              "    </button>\n",
              "\n",
              "  <style>\n",
              "    .colab-df-container {\n",
              "      display:flex;\n",
              "      gap: 12px;\n",
              "    }\n",
              "\n",
              "    .colab-df-convert {\n",
              "      background-color: #E8F0FE;\n",
              "      border: none;\n",
              "      border-radius: 50%;\n",
              "      cursor: pointer;\n",
              "      display: none;\n",
              "      fill: #1967D2;\n",
              "      height: 32px;\n",
              "      padding: 0 0 0 0;\n",
              "      width: 32px;\n",
              "    }\n",
              "\n",
              "    .colab-df-convert:hover {\n",
              "      background-color: #E2EBFA;\n",
              "      box-shadow: 0px 1px 2px rgba(60, 64, 67, 0.3), 0px 1px 3px 1px rgba(60, 64, 67, 0.15);\n",
              "      fill: #174EA6;\n",
              "    }\n",
              "\n",
              "    .colab-df-buttons div {\n",
              "      margin-bottom: 4px;\n",
              "    }\n",
              "\n",
              "    [theme=dark] .colab-df-convert {\n",
              "      background-color: #3B4455;\n",
              "      fill: #D2E3FC;\n",
              "    }\n",
              "\n",
              "    [theme=dark] .colab-df-convert:hover {\n",
              "      background-color: #434B5C;\n",
              "      box-shadow: 0px 1px 3px 1px rgba(0, 0, 0, 0.15);\n",
              "      filter: drop-shadow(0px 1px 2px rgba(0, 0, 0, 0.3));\n",
              "      fill: #FFFFFF;\n",
              "    }\n",
              "  </style>\n",
              "\n",
              "    <script>\n",
              "      const buttonEl =\n",
              "        document.querySelector('#df-84143329-6ce8-4644-854c-b0f13f7452d5 button.colab-df-convert');\n",
              "      buttonEl.style.display =\n",
              "        google.colab.kernel.accessAllowed ? 'block' : 'none';\n",
              "\n",
              "      async function convertToInteractive(key) {\n",
              "        const element = document.querySelector('#df-84143329-6ce8-4644-854c-b0f13f7452d5');\n",
              "        const dataTable =\n",
              "          await google.colab.kernel.invokeFunction('convertToInteractive',\n",
              "                                                    [key], {});\n",
              "        if (!dataTable) return;\n",
              "\n",
              "        const docLinkHtml = 'Like what you see? Visit the ' +\n",
              "          '<a target=\"_blank\" href=https://colab.research.google.com/notebooks/data_table.ipynb>data table notebook</a>'\n",
              "          + ' to learn more about interactive tables.';\n",
              "        element.innerHTML = '';\n",
              "        dataTable['output_type'] = 'display_data';\n",
              "        await google.colab.output.renderOutput(dataTable, element);\n",
              "        const docLink = document.createElement('div');\n",
              "        docLink.innerHTML = docLinkHtml;\n",
              "        element.appendChild(docLink);\n",
              "      }\n",
              "    </script>\n",
              "  </div>\n",
              "\n",
              "\n",
              "<div id=\"df-539427dc-e34f-433c-bb2d-b1c86ea95470\">\n",
              "  <button class=\"colab-df-quickchart\" onclick=\"quickchart('df-539427dc-e34f-433c-bb2d-b1c86ea95470')\"\n",
              "            title=\"Suggest charts\"\n",
              "            style=\"display:none;\">\n",
              "\n",
              "<svg xmlns=\"http://www.w3.org/2000/svg\" height=\"24px\"viewBox=\"0 0 24 24\"\n",
              "     width=\"24px\">\n",
              "    <g>\n",
              "        <path d=\"M19 3H5c-1.1 0-2 .9-2 2v14c0 1.1.9 2 2 2h14c1.1 0 2-.9 2-2V5c0-1.1-.9-2-2-2zM9 17H7v-7h2v7zm4 0h-2V7h2v10zm4 0h-2v-4h2v4z\"/>\n",
              "    </g>\n",
              "</svg>\n",
              "  </button>\n",
              "\n",
              "<style>\n",
              "  .colab-df-quickchart {\n",
              "      --bg-color: #E8F0FE;\n",
              "      --fill-color: #1967D2;\n",
              "      --hover-bg-color: #E2EBFA;\n",
              "      --hover-fill-color: #174EA6;\n",
              "      --disabled-fill-color: #AAA;\n",
              "      --disabled-bg-color: #DDD;\n",
              "  }\n",
              "\n",
              "  [theme=dark] .colab-df-quickchart {\n",
              "      --bg-color: #3B4455;\n",
              "      --fill-color: #D2E3FC;\n",
              "      --hover-bg-color: #434B5C;\n",
              "      --hover-fill-color: #FFFFFF;\n",
              "      --disabled-bg-color: #3B4455;\n",
              "      --disabled-fill-color: #666;\n",
              "  }\n",
              "\n",
              "  .colab-df-quickchart {\n",
              "    background-color: var(--bg-color);\n",
              "    border: none;\n",
              "    border-radius: 50%;\n",
              "    cursor: pointer;\n",
              "    display: none;\n",
              "    fill: var(--fill-color);\n",
              "    height: 32px;\n",
              "    padding: 0;\n",
              "    width: 32px;\n",
              "  }\n",
              "\n",
              "  .colab-df-quickchart:hover {\n",
              "    background-color: var(--hover-bg-color);\n",
              "    box-shadow: 0 1px 2px rgba(60, 64, 67, 0.3), 0 1px 3px 1px rgba(60, 64, 67, 0.15);\n",
              "    fill: var(--button-hover-fill-color);\n",
              "  }\n",
              "\n",
              "  .colab-df-quickchart-complete:disabled,\n",
              "  .colab-df-quickchart-complete:disabled:hover {\n",
              "    background-color: var(--disabled-bg-color);\n",
              "    fill: var(--disabled-fill-color);\n",
              "    box-shadow: none;\n",
              "  }\n",
              "\n",
              "  .colab-df-spinner {\n",
              "    border: 2px solid var(--fill-color);\n",
              "    border-color: transparent;\n",
              "    border-bottom-color: var(--fill-color);\n",
              "    animation:\n",
              "      spin 1s steps(1) infinite;\n",
              "  }\n",
              "\n",
              "  @keyframes spin {\n",
              "    0% {\n",
              "      border-color: transparent;\n",
              "      border-bottom-color: var(--fill-color);\n",
              "      border-left-color: var(--fill-color);\n",
              "    }\n",
              "    20% {\n",
              "      border-color: transparent;\n",
              "      border-left-color: var(--fill-color);\n",
              "      border-top-color: var(--fill-color);\n",
              "    }\n",
              "    30% {\n",
              "      border-color: transparent;\n",
              "      border-left-color: var(--fill-color);\n",
              "      border-top-color: var(--fill-color);\n",
              "      border-right-color: var(--fill-color);\n",
              "    }\n",
              "    40% {\n",
              "      border-color: transparent;\n",
              "      border-right-color: var(--fill-color);\n",
              "      border-top-color: var(--fill-color);\n",
              "    }\n",
              "    60% {\n",
              "      border-color: transparent;\n",
              "      border-right-color: var(--fill-color);\n",
              "    }\n",
              "    80% {\n",
              "      border-color: transparent;\n",
              "      border-right-color: var(--fill-color);\n",
              "      border-bottom-color: var(--fill-color);\n",
              "    }\n",
              "    90% {\n",
              "      border-color: transparent;\n",
              "      border-bottom-color: var(--fill-color);\n",
              "    }\n",
              "  }\n",
              "</style>\n",
              "\n",
              "  <script>\n",
              "    async function quickchart(key) {\n",
              "      const quickchartButtonEl =\n",
              "        document.querySelector('#' + key + ' button');\n",
              "      quickchartButtonEl.disabled = true;  // To prevent multiple clicks.\n",
              "      quickchartButtonEl.classList.add('colab-df-spinner');\n",
              "      try {\n",
              "        const charts = await google.colab.kernel.invokeFunction(\n",
              "            'suggestCharts', [key], {});\n",
              "      } catch (error) {\n",
              "        console.error('Error during call to suggestCharts:', error);\n",
              "      }\n",
              "      quickchartButtonEl.classList.remove('colab-df-spinner');\n",
              "      quickchartButtonEl.classList.add('colab-df-quickchart-complete');\n",
              "    }\n",
              "    (() => {\n",
              "      let quickchartButtonEl =\n",
              "        document.querySelector('#df-539427dc-e34f-433c-bb2d-b1c86ea95470 button');\n",
              "      quickchartButtonEl.style.display =\n",
              "        google.colab.kernel.accessAllowed ? 'block' : 'none';\n",
              "    })();\n",
              "  </script>\n",
              "</div>\n",
              "\n",
              "  <div id=\"id_cf095e57-38e5-4739-be49-db99e227aed7\">\n",
              "    <style>\n",
              "      .colab-df-generate {\n",
              "        background-color: #E8F0FE;\n",
              "        border: none;\n",
              "        border-radius: 50%;\n",
              "        cursor: pointer;\n",
              "        display: none;\n",
              "        fill: #1967D2;\n",
              "        height: 32px;\n",
              "        padding: 0 0 0 0;\n",
              "        width: 32px;\n",
              "      }\n",
              "\n",
              "      .colab-df-generate:hover {\n",
              "        background-color: #E2EBFA;\n",
              "        box-shadow: 0px 1px 2px rgba(60, 64, 67, 0.3), 0px 1px 3px 1px rgba(60, 64, 67, 0.15);\n",
              "        fill: #174EA6;\n",
              "      }\n",
              "\n",
              "      [theme=dark] .colab-df-generate {\n",
              "        background-color: #3B4455;\n",
              "        fill: #D2E3FC;\n",
              "      }\n",
              "\n",
              "      [theme=dark] .colab-df-generate:hover {\n",
              "        background-color: #434B5C;\n",
              "        box-shadow: 0px 1px 3px 1px rgba(0, 0, 0, 0.15);\n",
              "        filter: drop-shadow(0px 1px 2px rgba(0, 0, 0, 0.3));\n",
              "        fill: #FFFFFF;\n",
              "      }\n",
              "    </style>\n",
              "    <button class=\"colab-df-generate\" onclick=\"generateWithVariable('correlation_matrix')\"\n",
              "            title=\"Generate code using this dataframe.\"\n",
              "            style=\"display:none;\">\n",
              "\n",
              "  <svg xmlns=\"http://www.w3.org/2000/svg\" height=\"24px\"viewBox=\"0 0 24 24\"\n",
              "       width=\"24px\">\n",
              "    <path d=\"M7,19H8.4L18.45,9,17,7.55,7,17.6ZM5,21V16.75L18.45,3.32a2,2,0,0,1,2.83,0l1.4,1.43a1.91,1.91,0,0,1,.58,1.4,1.91,1.91,0,0,1-.58,1.4L9.25,21ZM18.45,9,17,7.55Zm-12,3A5.31,5.31,0,0,0,4.9,8.1,5.31,5.31,0,0,0,1,6.5,5.31,5.31,0,0,0,4.9,4.9,5.31,5.31,0,0,0,6.5,1,5.31,5.31,0,0,0,8.1,4.9,5.31,5.31,0,0,0,12,6.5,5.46,5.46,0,0,0,6.5,12Z\"/>\n",
              "  </svg>\n",
              "    </button>\n",
              "    <script>\n",
              "      (() => {\n",
              "      const buttonEl =\n",
              "        document.querySelector('#id_cf095e57-38e5-4739-be49-db99e227aed7 button.colab-df-generate');\n",
              "      buttonEl.style.display =\n",
              "        google.colab.kernel.accessAllowed ? 'block' : 'none';\n",
              "\n",
              "      buttonEl.onclick = () => {\n",
              "        google.colab.notebook.generateWithVariable('correlation_matrix');\n",
              "      }\n",
              "      })();\n",
              "    </script>\n",
              "  </div>\n",
              "\n",
              "    </div>\n",
              "  </div>\n"
            ],
            "application/vnd.google.colaboratory.intrinsic+json": {
              "type": "dataframe",
              "variable_name": "correlation_matrix",
              "summary": "{\n  \"name\": \"correlation_matrix\",\n  \"rows\": 6,\n  \"fields\": [\n    {\n      \"column\": \"arr_flights\",\n      \"properties\": {\n        \"dtype\": \"number\",\n        \"std\": 0.1654708680495041,\n        \"min\": 0.5257660715929875,\n        \"max\": 1.0,\n        \"num_unique_values\": 6,\n        \"samples\": [\n          1.0,\n          0.913967124159168,\n          0.8592156142091872\n        ],\n        \"semantic_type\": \"\",\n        \"description\": \"\"\n      }\n    },\n    {\n      \"column\": \"carrier_ct\",\n      \"properties\": {\n        \"dtype\": \"number\",\n        \"std\": 0.16498399951037068,\n        \"min\": 0.5505796056493538,\n        \"max\": 1.0,\n        \"num_unique_values\": 6,\n        \"samples\": [\n          0.913967124159168,\n          1.0,\n          0.8710113485635894\n        ],\n        \"semantic_type\": \"\",\n        \"description\": \"\"\n      }\n    },\n    {\n      \"column\": \"weather_ct\",\n      \"properties\": {\n        \"dtype\": \"number\",\n        \"std\": 0.21689887599009922,\n        \"min\": 0.3295194438051339,\n        \"max\": 1.0,\n        \"num_unique_values\": 6,\n        \"samples\": [\n          0.7283594352370887,\n          0.6873567352865271,\n          0.6255754258652207\n        ],\n        \"semantic_type\": \"\",\n        \"description\": \"\"\n      }\n    },\n    {\n      \"column\": \"nas_ct\",\n      \"properties\": {\n        \"dtype\": \"number\",\n        \"std\": 0.1975942431032749,\n        \"min\": 0.42315345774618845,\n        \"max\": 1.0,\n        \"num_unique_values\": 6,\n        \"samples\": [\n          0.8217310025144245,\n          0.7419079630085227,\n          0.7778745536242272\n        ],\n        \"semantic_type\": \"\",\n        \"description\": \"\"\n      }\n    },\n    {\n      \"column\": \"security_ct\",\n      \"properties\": {\n        \"dtype\": \"number\",\n        \"std\": 0.23188642744930793,\n        \"min\": 0.3295194438051339,\n        \"max\": 1.0,\n        \"num_unique_values\": 6,\n        \"samples\": [\n          0.5257660715929875,\n          0.5505796056493538,\n          0.513085333790701\n        ],\n        \"semantic_type\": \"\",\n        \"description\": \"\"\n      }\n    },\n    {\n      \"column\": \"late_aircraft_ct\",\n      \"properties\": {\n        \"dtype\": \"number\",\n        \"std\": 0.17769015750813588,\n        \"min\": 0.513085333790701,\n        \"max\": 1.0,\n        \"num_unique_values\": 6,\n        \"samples\": [\n          0.8592156142091872,\n          0.8710113485635894,\n          1.0\n        ],\n        \"semantic_type\": \"\",\n        \"description\": \"\"\n      }\n    }\n  ]\n}"
            }
          },
          "metadata": {},
          "execution_count": 15
        }
      ]
    },
    {
      "cell_type": "markdown",
      "source": [
        "### **Key Insights**\n",
        "\n",
        "- `carrier_ct` and `arr_flights`\n",
        "\n",
        "  Correlation: $0.91$\n",
        "  \n",
        "  Interpretation: There is a very strong correlation between `carrier_ct` and `arr_flights`\n",
        "  \n",
        "  This suggests that a significant number of flight delays at airports are due to airline-related issues, such as poor crew management, inadequate scheduling, or operational inefficiencies.\n",
        "\n",
        "- `late_aircraft_ct` and `arr_flights`\n",
        "  \n",
        "  Correlation: $0.86$\n",
        "  \n",
        "  Interpretation: There is a very strong correlation between `late_aircraft_ct` and `arr_flights`\n",
        "\n",
        "  This indicates that delays caused by late aircraft rotations (where an arrival flight's delay affects its subsequent departure) significantly contribute to the overall flight delays.\n",
        "\n",
        "- `nas_ct` and `arr_flights`\n",
        "\n",
        "  Correlation: $0.82$\n",
        "  \n",
        "  Interpretation: There is a very strong correlation between `nas_ct` and `arr_flights`\n",
        "\n",
        "  This implies that delays due to National Aviation System (NAS) issues, such as heavy air traffic, airport congestion, or infrastructure limitations, are major contributors to flight delays.\n",
        "\n",
        "- We also see 2 other correlations and they are strong correlations: `weather_ct` and `arr_flights` ($0.73$) ; `security_ct` and `arr_flights` ($0.53$), but because they are objective reasons that cannot be intervened or controlled, we will not focus on them."
      ],
      "metadata": {
        "id": "DBi9raLuNF_3"
      }
    },
    {
      "cell_type": "markdown",
      "source": [
        "## **Multiple Linear Regression:** Predict delay > 15 minutes `arr_del15` using delay types: `carrier_ct`, `late_aircraft_ct` and `nas_ct`"
      ],
      "metadata": {
        "id": "lplRK2F6DEIM"
      }
    },
    {
      "cell_type": "code",
      "source": [
        "X = df[['carrier_ct', 'nas_ct', 'late_aircraft_ct']].fillna(0)\n",
        "y = df['arr_del15'].fillna(0)\n",
        "\n",
        "# Add a constant\n",
        "X = sm.add_constant(X)\n",
        "model = sm.OLS(y, X).fit()\n",
        "\n",
        "# Display summary\n",
        "print(model.summary())"
      ],
      "metadata": {
        "colab": {
          "base_uri": "https://localhost:8080/"
        },
        "id": "n6jXJzCfDLGY",
        "outputId": "d2035700-3478-4c42-f5e8-3c34ac6e04b7"
      },
      "execution_count": 17,
      "outputs": [
        {
          "output_type": "stream",
          "name": "stdout",
          "text": [
            "                            OLS Regression Results                            \n",
            "==============================================================================\n",
            "Dep. Variable:              arr_del15   R-squared:                       0.999\n",
            "Model:                            OLS   Adj. R-squared:                  0.999\n",
            "Method:                 Least Squares   F-statistic:                 2.023e+06\n",
            "Date:                Wed, 01 Jan 2025   Prob (F-statistic):               0.00\n",
            "Time:                        10:13:14   Log-Likelihood:                -8889.8\n",
            "No. Observations:                3351   AIC:                         1.779e+04\n",
            "Df Residuals:                    3347   BIC:                         1.781e+04\n",
            "Df Model:                           3                                         \n",
            "Covariance Type:            nonrobust                                         \n",
            "====================================================================================\n",
            "                       coef    std err          t      P>|t|      [0.025      0.975]\n",
            "------------------------------------------------------------------------------------\n",
            "const                0.1698      0.064      2.667      0.008       0.045       0.295\n",
            "carrier_ct           1.0688      0.003    360.790      0.000       1.063       1.075\n",
            "nas_ct               1.0165      0.002    593.017      0.000       1.013       1.020\n",
            "late_aircraft_ct     1.0021      0.002    420.928      0.000       0.997       1.007\n",
            "==============================================================================\n",
            "Omnibus:                     4308.328   Durbin-Watson:                   1.697\n",
            "Prob(Omnibus):                  0.000   Jarque-Bera (JB):          1514708.394\n",
            "Skew:                           6.756   Prob(JB):                         0.00\n",
            "Kurtosis:                     106.276   Cond. No.                         94.2\n",
            "==============================================================================\n",
            "\n",
            "Notes:\n",
            "[1] Standard Errors assume that the covariance matrix of the errors is correctly specified.\n"
          ]
        }
      ]
    },
    {
      "cell_type": "markdown",
      "source": [
        "### **Interpreting multiple linear regression results**"
      ],
      "metadata": {
        "id": "GDQTU1jpTsDF"
      }
    },
    {
      "cell_type": "markdown",
      "source": [
        "**Overall model fit**\n",
        "\n",
        "  - R-squared:  $1.000$\n",
        "\n",
        "  This means that  $100\\%$  of the variance in the dependent variable (`arr_del15`) is explained by the independent variables (`carrier_ct`, `nas_ct`, and `late_aircraft_ct`). In other words, $100\\%$ of flights delayed by independent variables cause flight delays of 15 minutes or more.\n",
        "  \n",
        "  This indicates **`a perfect fit`** of the model to the data.\n",
        "\n",
        "  - Adj. R-squared:  $1.000$\n",
        "  \n",
        "  The adjusted R-squared is equal to R-squared. This further proves that: this indicates **`a perfect fit`** of the model to the data."
      ],
      "metadata": {
        "id": "pMbN9oouT1pZ"
      }
    },
    {
      "cell_type": "markdown",
      "source": [
        "**Individual coefficients, p-value**\n",
        "1. const\n",
        "  - coef:  $0.1698$ : When all independent variables are 0 (no delays caused by `carrier_ct`, `nas_ct`, or `late_aircraft_ct`), the model predicts an average of $0.1698$ flights delayed by more than 15 minutes (`arr_del15`). This small positive value indicates that even when all specific delay categories are absent, there may still be a small baseline number of delayed flights due to other unmeasured factors.\n",
        "  - p-value:  $0.008$ : This is lower than  $0.05$ , indicating that the intercept is statistically significant. The independent variable likely has a real effect on the dependent variable.\n",
        "\n",
        "2. carrier_ct:\n",
        "\n",
        "  - coef:  $1.0688$ : For every additional flight delayed due to `carrier_ct`, there is an average increase of approximately $1.0688$ flights in the `arr_del15` count. This indicates a strong positive relationship, meaning carrier-related delays significantly contribute to the total number of delayed flights.\n",
        "  - p-value:  $0.000$ : The p-value is extremely small (essentially $0$), meaning the contribution of `carrier_ct` delays to the total number of delayed flights is highly statistically significant.\n",
        "\n",
        "3. nas_ct:\n",
        "\n",
        "  - coef:  $1.0165$ : For every additional flight delayed due to `nas_ct`, the `arr_del15` count increases by $1.0165$ flights on average. This coefficient is close to $1$, indicating that `nas_ct` delays almost directly map to an equivalent increase in the count of delayed flights.\n",
        "  - p-value:  $0.000$ : Similar to `carrier_ct`, the p-value is essentially 0, confirming that delays due to the National Aviation System have a statistically significant effect on the dependent variable.\n",
        "\n",
        "4. late_aircraft_ct:\n",
        "\n",
        "  - coef:  $1.0021$ : For every additional flight delayed due to `late_aircraft_ct`, the `arr_del15` count increases by $1.0021$ flight on average. This near-perfect 1:1 relationship implies that `late_aircraft_ct` delays are essentially passed directly into the total count of delayed flights.\n",
        "  - p-value:  $0.000$ : Again, the p-value is effectively 0, showing that delays caused by `late_aircraft_ct` are highly statistically significant."
      ],
      "metadata": {
        "id": "MLzxIzQNXLNQ"
      }
    },
    {
      "cell_type": "markdown",
      "source": [
        "### **Summary**"
      ],
      "metadata": {
        "id": "fgorniFIfI2a"
      }
    },
    {
      "cell_type": "markdown",
      "source": [
        "- The model explains $99.9\\%$ of the variance in the number of flights delayed by more than 15 minutes (`arr_del15`), indicating an excellent fit.\n",
        "- All three predictors—`carrier_ct` (delays caused by carriers), `nas_ct` (delays due to the National Aviation System), and `late_aircraft_ct` (delays from previous flights)—are statistically significant contributors to the model (p-values < $0.001$).\n",
        "- The intercept (`const`) is also statistically significant, suggesting a small baseline level of delays not explained by the included predictors."
      ],
      "metadata": {
        "id": "P0jqwX_wfMtV"
      }
    },
    {
      "cell_type": "markdown",
      "source": [
        "## **Evaluating the Model**"
      ],
      "metadata": {
        "id": "hlljLzJTferP"
      }
    },
    {
      "cell_type": "code",
      "source": [
        "# Train-test split\n",
        "X_train, X_test, y_train, y_test = train_test_split(X, y, test_size=0.2)\n",
        "\n",
        "predictions = model.predict(X_test)\n",
        "\n",
        "# Evaluate the model\n",
        "mse = np.mean((y_test - predictions) ** 2)\n",
        "rmse = np.sqrt(mse)\n",
        "\n",
        "print('MSE:', mse)\n",
        "print('RMSE:', rmse)"
      ],
      "metadata": {
        "colab": {
          "base_uri": "https://localhost:8080/"
        },
        "id": "9OXe-2Lntgat",
        "outputId": "75801c11-d613-4233-c4bc-6711f3a53800"
      },
      "execution_count": 18,
      "outputs": [
        {
          "output_type": "stream",
          "name": "stdout",
          "text": [
            "MSE: 4.734019614595766\n",
            "RMSE: 2.1757802312264367\n"
          ]
        }
      ]
    },
    {
      "cell_type": "code",
      "source": [
        "df['arr_del15'].describe()"
      ],
      "metadata": {
        "colab": {
          "base_uri": "https://localhost:8080/",
          "height": 335
        },
        "id": "DtT1t_MYucb6",
        "outputId": "b4530585-35c7-42bc-88fd-3c49641e648f"
      },
      "execution_count": null,
      "outputs": [
        {
          "output_type": "execute_result",
          "data": {
            "text/plain": [
              "count    3351.000000\n",
              "mean       50.873471\n",
              "std       146.330616\n",
              "min         0.000000\n",
              "25%         5.000000\n",
              "50%        12.000000\n",
              "75%        33.000000\n",
              "max      2289.000000\n",
              "Name: arr_del15, dtype: float64"
            ],
            "text/html": [
              "<div>\n",
              "<style scoped>\n",
              "    .dataframe tbody tr th:only-of-type {\n",
              "        vertical-align: middle;\n",
              "    }\n",
              "\n",
              "    .dataframe tbody tr th {\n",
              "        vertical-align: top;\n",
              "    }\n",
              "\n",
              "    .dataframe thead th {\n",
              "        text-align: right;\n",
              "    }\n",
              "</style>\n",
              "<table border=\"1\" class=\"dataframe\">\n",
              "  <thead>\n",
              "    <tr style=\"text-align: right;\">\n",
              "      <th></th>\n",
              "      <th>arr_del15</th>\n",
              "    </tr>\n",
              "  </thead>\n",
              "  <tbody>\n",
              "    <tr>\n",
              "      <th>count</th>\n",
              "      <td>3351.000000</td>\n",
              "    </tr>\n",
              "    <tr>\n",
              "      <th>mean</th>\n",
              "      <td>50.873471</td>\n",
              "    </tr>\n",
              "    <tr>\n",
              "      <th>std</th>\n",
              "      <td>146.330616</td>\n",
              "    </tr>\n",
              "    <tr>\n",
              "      <th>min</th>\n",
              "      <td>0.000000</td>\n",
              "    </tr>\n",
              "    <tr>\n",
              "      <th>25%</th>\n",
              "      <td>5.000000</td>\n",
              "    </tr>\n",
              "    <tr>\n",
              "      <th>50%</th>\n",
              "      <td>12.000000</td>\n",
              "    </tr>\n",
              "    <tr>\n",
              "      <th>75%</th>\n",
              "      <td>33.000000</td>\n",
              "    </tr>\n",
              "    <tr>\n",
              "      <th>max</th>\n",
              "      <td>2289.000000</td>\n",
              "    </tr>\n",
              "  </tbody>\n",
              "</table>\n",
              "</div><br><label><b>dtype:</b> float64</label>"
            ]
          },
          "metadata": {},
          "execution_count": 114
        }
      ]
    },
    {
      "cell_type": "markdown",
      "source": [
        "**Comparison to the Mean:**\n",
        "\n",
        "  - The mean of the `arr_del15` column is $50.873$.\n",
        "\n",
        "  - The RMSE of $2.176$ is approximately $4.28\\%$ of the mean.\n",
        "\n",
        "  - This indicates that the model's average prediction error is very small compared to the average value in the dataset.\n",
        "\n",
        "**Comparison to the Standard Deviation:**\n",
        "\n",
        "  - The standard deviation of `arr_del15` is $146.331$.\n",
        "\n",
        "  - The RMSE of $2.176$ is approximately $1.49\\%$ of the standard deviation.\n",
        "\n",
        "  - This suggests that the RMSE is much smaller than the typical variation in the data, reflecting excellent predictive accuracy.\n",
        "\n",
        "**Range of the Data:**\n",
        "\n",
        "  - The range of the data is from $0$ to $2289$.\n",
        "\n",
        "  - The RMSE of $2.176$ represents about $0.095\\%$ of the range.\n",
        "\n",
        "  - This shows that the error is extremely small relative to the total spread of the values."
      ],
      "metadata": {
        "id": "8wLqRwi5gE0j"
      }
    },
    {
      "cell_type": "markdown",
      "source": [
        "## **Summary**"
      ],
      "metadata": {
        "id": "3hDqcw66h3E_"
      }
    },
    {
      "cell_type": "markdown",
      "source": [
        "- **Relative to the Mean**: The RMSE is about $4.28\\%$ of the mean, indicating a highly accurate model with a small average error compared to the average value of the data.\n",
        "\n",
        "- **Relative to the Standard Deviation**: The RMSE is about $1.49\\%$ of the standard deviation, suggesting that the error is significantly smaller than the typical variability in the data.\n",
        "\n",
        "- **Relative to the Range**: The RMSE represents $0.095\\%$ of the range, demonstrating that the prediction error is negligible relative to the entire spread of the dataset.\n",
        "\n",
        "The low RMSE and MSE values, combined with their small percentages relative to the mean, standard deviation, and range, demonstrate that the model's predictions are highly accurate and reliable for this dataset."
      ],
      "metadata": {
        "id": "emMKR_ith5-Y"
      }
    },
    {
      "cell_type": "markdown",
      "source": [
        "## **Logistic Regression:** Classify whether an airline has a high delay rate (above $15\\%$) using delay types: `carrier_ct`, `late_aircraft_ct` and `nas_ct`\n"
      ],
      "metadata": {
        "id": "6eTDdUtRDjoC"
      }
    },
    {
      "cell_type": "code",
      "source": [
        "# Create a binary column for high delay risk\n",
        "df['high_delay'] = (df['arr_del15'] / df['arr_flights'] > 0.15).astype(int)\n",
        "\n",
        "# Features and target\n",
        "X = df[['carrier_ct', 'nas_ct', 'late_aircraft_ct']].fillna(0)\n",
        "y = df['high_delay']\n",
        "\n",
        "# Add constant term for intercept\n",
        "X = sm.add_constant(X)\n",
        "\n",
        "# Fit logistic regression model\n",
        "model = sm.Logit(y, X).fit()\n",
        "\n",
        "# Summary of the model\n",
        "print(model.summary())"
      ],
      "metadata": {
        "colab": {
          "base_uri": "https://localhost:8080/"
        },
        "id": "KVuQ4rSAD4Gf",
        "outputId": "317fd5db-80ac-4f2c-bb53-7315b3c4e6a4"
      },
      "execution_count": 19,
      "outputs": [
        {
          "output_type": "stream",
          "name": "stdout",
          "text": [
            "Optimization terminated successfully.\n",
            "         Current function value: 0.655469\n",
            "         Iterations 7\n",
            "                           Logit Regression Results                           \n",
            "==============================================================================\n",
            "Dep. Variable:             high_delay   No. Observations:                 3351\n",
            "Model:                          Logit   Df Residuals:                     3347\n",
            "Method:                           MLE   Df Model:                            3\n",
            "Date:                Wed, 01 Jan 2025   Pseudo R-squ.:                 0.05304\n",
            "Time:                        11:06:38   Log-Likelihood:                -2196.5\n",
            "converged:                       True   LL-Null:                       -2319.5\n",
            "Covariance Type:            nonrobust   LLR p-value:                 4.631e-53\n",
            "====================================================================================\n",
            "                       coef    std err          z      P>|z|      [0.025      0.975]\n",
            "------------------------------------------------------------------------------------\n",
            "const               -0.1220      0.041     -2.953      0.003      -0.203      -0.041\n",
            "carrier_ct          -0.0154      0.004     -4.127      0.000      -0.023      -0.008\n",
            "nas_ct              -0.0073      0.002     -3.569      0.000      -0.011      -0.003\n",
            "late_aircraft_ct     0.0442      0.005      9.720      0.000       0.035       0.053\n",
            "====================================================================================\n"
          ]
        }
      ]
    },
    {
      "cell_type": "markdown",
      "source": [
        "## **Interpretation of logistic regression**"
      ],
      "metadata": {
        "id": "FJ8Wikp3jW8t"
      }
    },
    {
      "cell_type": "markdown",
      "source": [
        "**Pseudo R-squared**: $0.05304$\n",
        "\n",
        "- It indicates that the model explains approximately 5.3% of the variance in the dependent variable (`high_delay`).\n",
        "\n",
        "- While this is a low value, it is not uncommon in logistic regression, especially when predicting outcomes for complex phenomena.\n",
        "\n",
        "**LLR p-value**: $4.631e-53$\n",
        "\n",
        "  - It is extremely small. This indicates that the overall model is highly statistically significant. The predictors, when considered together, significantly contribute to the prediction of the outcome variable (`high_delay`).\n",
        "\n",
        "**Predictors Interpretation**\n",
        "\n",
        "- `const`:\n",
        "  \n",
        "  Coefficient: $-0.1220$\n",
        "  \n",
        "  p-value: $0.003$ < $0.05$, so the intercept is statistically significant.\n",
        "  \n",
        "  Interpretation: The baseline log-odds of a flight having a high delay when all predictors are zero is $-0.1220$. This corresponds to an odds ratio of\n",
        "  $𝑒$ ^−0.122 ≈ $0.885$, meaning a slightly lower chance of high delay in the baseline scenario.\n",
        "\n",
        "- `carrier_ct`:\n",
        "\n",
        "  Coefficient: $-0.0154$\n",
        "\n",
        "  p-value: $0.000$ < $0.001$, statistically significant.\n",
        "  \n",
        "  Interpretation: For every one additional flight delayed due to the carrier, the log-odds of a flight experiencing a high delay decrease by $0.0154$.\n",
        "  \n",
        "  Odds ratio: $e$ ^−0.0154 ≈ $0.985$, meaning the odds decrease by about 1.5% per additional carrier delay.\n",
        "\n",
        "- `nas_ct`:\n",
        "  \n",
        "  Coefficient: $-0.0073$\n",
        "  \n",
        "  p-value: $0.000$ < $0.001$, statistically significant.\n",
        "  \n",
        "  Interpretation: For every one additional flight delayed due to NAS issues, the log-odds of a high delay decrease by $0.0073$.\n",
        "  \n",
        "  Odds ratio: $e$ ^−0.0073 ≈ $0.993$, meaning the odds decrease by about 0.7% per additional NAS delay.\n",
        "\n",
        "- `late_aircraft_ct`:\n",
        "\n",
        "  Coefficient: $0.0442$\n",
        "  \n",
        "  p-value: $0.000$ < $0.001$, statistically significant.\n",
        "  \n",
        "  Interpretation: For every one additional flight delayed due to a late aircraft, the log-odds of a high delay increase by $0.0442$.\n",
        "  \n",
        "  Odds ratio: $e$ ^0.0442 ≈ $1.045$, meaning the odds increase by about 4.5% per additional late aircraft delay."
      ],
      "metadata": {
        "id": "iOXMCqf6jaEt"
      }
    },
    {
      "cell_type": "markdown",
      "source": [
        "## **Summary:**"
      ],
      "metadata": {
        "id": "ZlWSi6TVoYSk"
      }
    },
    {
      "cell_type": "markdown",
      "source": [
        "1. **Model Fit**:\n",
        "\n",
        "  The Pseudo R-squared value of $0.05304$ suggests the model explains a modest portion of the variance in `high_delay`, which is acceptable for logistic regression in complex systems.\n",
        "  \n",
        "  The extremely low LLR p-value confirms the model's overall statistical significance.\n",
        "\n",
        "2. **Predictor Insights**:\n",
        "\n",
        "  `carrier_ct` delays and `nas_ct` delays both reduce the odds of `high_delay`, albeit to a small degree, and are statistically significant.\n",
        "  \n",
        "  `late_aircraft_ct` delays increase the odds of `high_delay` and appear to have the largest impact among the predictors.\n",
        "  \n",
        "  The intercept is significant but plays a less interpretable role in real-world context.\n",
        "\n",
        "3. **Conclusion**:\n",
        "\n",
        "  The model demonstrates meaningful relationships between the predictors and `high_delay`, particularly highlighting the role of late aircraft delays as a strong contributor to high delays. These insights could guide strategies to improve flight timeliness."
      ],
      "metadata": {
        "id": "Y3rXPI7rokHJ"
      }
    },
    {
      "cell_type": "markdown",
      "source": [
        "## **Prediction with logistic regression**"
      ],
      "metadata": {
        "id": "6XC1ftUSpfro"
      }
    },
    {
      "cell_type": "code",
      "source": [
        "# Train-test split\n",
        "X_train, X_test, y_train, y_test = train_test_split(X, y, test_size=0.2)\n",
        "\n",
        "X_train = sm.add_constant(X_train)\n",
        "X_test = sm.add_constant(X_test)\n",
        "\n",
        "# Fit logistic regression model\n",
        "model = sm.Logit(y_train, X_train).fit()\n",
        "\n",
        "print(model.summary())"
      ],
      "metadata": {
        "colab": {
          "base_uri": "https://localhost:8080/"
        },
        "id": "E9d_wi1xEtY5",
        "outputId": "4f93a021-d6e9-43e4-9e3f-df13ae1b367f"
      },
      "execution_count": 20,
      "outputs": [
        {
          "output_type": "stream",
          "name": "stdout",
          "text": [
            "Optimization terminated successfully.\n",
            "         Current function value: 0.649592\n",
            "         Iterations 8\n",
            "                           Logit Regression Results                           \n",
            "==============================================================================\n",
            "Dep. Variable:             high_delay   No. Observations:                 2680\n",
            "Model:                          Logit   Df Residuals:                     2676\n",
            "Method:                           MLE   Df Model:                            3\n",
            "Date:                Wed, 01 Jan 2025   Pseudo R-squ.:                 0.06143\n",
            "Time:                        11:37:55   Log-Likelihood:                -1740.9\n",
            "converged:                       True   LL-Null:                       -1854.9\n",
            "Covariance Type:            nonrobust   LLR p-value:                 3.933e-49\n",
            "====================================================================================\n",
            "                       coef    std err          z      P>|z|      [0.025      0.975]\n",
            "------------------------------------------------------------------------------------\n",
            "const               -0.1197      0.047     -2.566      0.010      -0.211      -0.028\n",
            "carrier_ct          -0.0239      0.005     -5.043      0.000      -0.033      -0.015\n",
            "nas_ct              -0.0065      0.003     -2.404      0.016      -0.012      -0.001\n",
            "late_aircraft_ct     0.0533      0.006      9.480      0.000       0.042       0.064\n",
            "====================================================================================\n"
          ]
        }
      ]
    },
    {
      "cell_type": "code",
      "source": [
        "# Predicting the probabilities\n",
        "predictions = model.predict(X_test)\n",
        "\n",
        "threshold = 0.5\n",
        "predicted_classes = np.where(predictions > threshold, 1, 0)\n",
        "predicted_classes"
      ],
      "metadata": {
        "colab": {
          "base_uri": "https://localhost:8080/"
        },
        "id": "zS1_OUGyFlOQ",
        "outputId": "7a4b4717-39d1-46c9-b8fa-5b85de5fc26c"
      },
      "execution_count": 21,
      "outputs": [
        {
          "output_type": "execute_result",
          "data": {
            "text/plain": [
              "array([0, 1, 0, 1, 0, 1, 0, 0, 0, 1, 0, 1, 1, 0, 0, 0, 0, 0, 1, 0, 1, 0,\n",
              "       1, 1, 1, 0, 0, 0, 0, 1, 0, 0, 0, 0, 0, 0, 1, 0, 1, 0, 1, 0, 1, 1,\n",
              "       0, 0, 0, 0, 1, 0, 1, 1, 0, 1, 0, 0, 1, 0, 0, 1, 0, 0, 1, 0, 0, 0,\n",
              "       0, 0, 1, 0, 0, 1, 0, 0, 1, 0, 0, 0, 0, 0, 0, 1, 0, 0, 1, 0, 0, 1,\n",
              "       0, 1, 0, 1, 1, 1, 0, 1, 0, 1, 0, 0, 1, 1, 1, 0, 1, 0, 0, 1, 0, 1,\n",
              "       1, 1, 1, 0, 0, 1, 0, 0, 0, 0, 0, 0, 1, 0, 0, 0, 1, 0, 0, 1, 1, 0,\n",
              "       0, 0, 0, 1, 0, 0, 0, 0, 0, 1, 0, 0, 0, 1, 1, 1, 0, 0, 1, 1, 0, 0,\n",
              "       0, 0, 0, 0, 1, 0, 0, 1, 0, 1, 0, 0, 0, 1, 1, 0, 0, 1, 0, 0, 1, 0,\n",
              "       0, 1, 0, 1, 0, 1, 1, 0, 0, 1, 1, 0, 0, 0, 0, 0, 1, 0, 1, 0, 0, 0,\n",
              "       1, 0, 0, 0, 1, 0, 0, 0, 1, 0, 1, 0, 0, 0, 0, 1, 1, 0, 0, 0, 1, 0,\n",
              "       1, 0, 1, 1, 1, 1, 1, 0, 0, 0, 0, 0, 1, 0, 0, 0, 1, 0, 1, 1, 1, 1,\n",
              "       1, 0, 1, 0, 0, 0, 1, 0, 0, 1, 0, 0, 1, 0, 1, 0, 1, 0, 1, 0, 0, 1,\n",
              "       0, 0, 0, 1, 0, 0, 0, 0, 1, 0, 0, 0, 0, 1, 0, 0, 0, 0, 1, 0, 1, 1,\n",
              "       0, 0, 0, 1, 1, 0, 0, 1, 1, 0, 0, 1, 0, 0, 1, 1, 1, 1, 0, 0, 0, 1,\n",
              "       0, 0, 1, 1, 1, 1, 1, 0, 0, 1, 0, 1, 0, 0, 0, 0, 0, 0, 0, 0, 0, 0,\n",
              "       1, 1, 0, 0, 1, 1, 0, 1, 0, 1, 1, 0, 0, 0, 1, 0, 0, 0, 0, 0, 0, 0,\n",
              "       0, 0, 1, 0, 0, 0, 1, 0, 1, 0, 1, 0, 0, 0, 0, 0, 0, 1, 0, 0, 1, 1,\n",
              "       0, 1, 0, 0, 0, 1, 0, 1, 1, 0, 0, 1, 1, 1, 1, 0, 0, 1, 1, 0, 0, 0,\n",
              "       0, 1, 1, 0, 1, 1, 1, 1, 1, 0, 0, 0, 0, 1, 0, 1, 0, 0, 0, 0, 1, 0,\n",
              "       0, 0, 0, 1, 1, 0, 0, 0, 0, 0, 0, 1, 0, 0, 0, 0, 0, 1, 0, 0, 0, 0,\n",
              "       0, 0, 0, 0, 0, 0, 0, 1, 0, 0, 1, 0, 0, 0, 0, 0, 1, 1, 0, 0, 1, 0,\n",
              "       1, 0, 0, 1, 0, 0, 1, 0, 1, 1, 1, 0, 1, 0, 0, 0, 0, 1, 0, 0, 1, 0,\n",
              "       0, 1, 1, 0, 1, 0, 0, 0, 1, 0, 0, 0, 0, 0, 1, 0, 1, 0, 1, 0, 0, 0,\n",
              "       1, 0, 1, 0, 0, 0, 1, 0, 0, 0, 0, 0, 0, 0, 1, 1, 0, 0, 0, 0, 0, 0,\n",
              "       0, 0, 0, 0, 0, 1, 1, 1, 1, 0, 1, 1, 0, 0, 1, 0, 0, 0, 1, 0, 0, 0,\n",
              "       0, 1, 1, 1, 1, 1, 1, 1, 0, 1, 0, 1, 1, 1, 1, 0, 0, 1, 0, 1, 0, 0,\n",
              "       0, 1, 0, 1, 0, 1, 0, 0, 1, 1, 0, 0, 0, 0, 0, 0, 0, 0, 0, 0, 0, 0,\n",
              "       0, 0, 0, 1, 1, 0, 0, 0, 0, 0, 0, 1, 1, 1, 0, 0, 1, 0, 0, 1, 1, 0,\n",
              "       0, 0, 0, 1, 1, 1, 1, 0, 0, 0, 0, 1, 0, 1, 1, 1, 1, 0, 0, 0, 0, 0,\n",
              "       0, 0, 1, 1, 0, 0, 0, 0, 1, 0, 0, 0, 1, 0, 0, 1, 0, 0, 0, 0, 1, 0,\n",
              "       0, 0, 0, 1, 0, 0, 0, 1, 0, 1, 0])"
            ]
          },
          "metadata": {},
          "execution_count": 21
        }
      ]
    },
    {
      "cell_type": "code",
      "source": [
        "val_correct = np.sum(predicted_classes == y_test)\n",
        "val_all = np.size(predicted_classes)\n",
        "\n",
        "accuracy = val_correct / val_all\n",
        "print(f'Logistic Regression Accuracy: {accuracy}')"
      ],
      "metadata": {
        "id": "zx8fijyCFzBu",
        "outputId": "09a6fe8e-ceeb-45e2-9ab4-992a78f2abd8",
        "colab": {
          "base_uri": "https://localhost:8080/"
        }
      },
      "execution_count": 22,
      "outputs": [
        {
          "output_type": "stream",
          "name": "stdout",
          "text": [
            "Logistic Regression Accuracy: 0.6855439642324889\n"
          ]
        }
      ]
    },
    {
      "cell_type": "markdown",
      "source": [
        "Our model predicted  **$68.6\\%$**  of data correctly."
      ],
      "metadata": {
        "id": "rqW91_qrp2B0"
      }
    },
    {
      "cell_type": "markdown",
      "source": [
        "# 5. **Visualization**"
      ],
      "metadata": {
        "id": "oa3_9VSbiX2D"
      }
    },
    {
      "cell_type": "markdown",
      "source": [
        "## **Correlation heatmap**"
      ],
      "metadata": {
        "id": "oQNhyVNqifKA"
      }
    },
    {
      "cell_type": "code",
      "source": [
        "# Correlation Heatmap\n",
        "sns.heatmap(correlation_matrix, annot=True, cmap='coolwarm')\n",
        "plt.title('Correlation Matrix Heatmap')\n",
        "plt.show()"
      ],
      "metadata": {
        "colab": {
          "base_uri": "https://localhost:8080/",
          "height": 542
        },
        "id": "GVGXEWYliccO",
        "outputId": "76dd282e-bb12-45c6-e4d9-1dcbde534989"
      },
      "execution_count": null,
      "outputs": [
        {
          "output_type": "display_data",
          "data": {
            "text/plain": [
              "<Figure size 640x480 with 2 Axes>"
            ],
            "image/png": "[encoded data removed]"
          },
          "metadata": {}
        }
      ]
    },
    {
      "cell_type": "markdown",
      "source": [
        "## **Visualize Delay Rates by Airline**"
      ],
      "metadata": {
        "id": "8IbG1xh_jh3j"
      }
    },
    {
      "cell_type": "code",
      "source": [
        "# Plot\n",
        "top_airlines.plot(kind='bar', figsize=(10, 5))\n",
        "plt.title('Top 10 Airlines with Highest Delay Rates')\n",
        "plt.xlabel('Airlines (IATA code)')\n",
        "plt.ylabel('Delay Rate (%)')\n",
        "plt.xticks(rotation=0)\n",
        "plt.show()"
      ],
      "metadata": {
        "colab": {
          "base_uri": "https://localhost:8080/",
          "height": 487
        },
        "id": "UXW0mChdjtvt",
        "outputId": "1622aafe-a7fe-4c02-9ce7-d9735bb1a62d"
      },
      "execution_count": null,
      "outputs": [
        {
          "output_type": "display_data",
          "data": {
            "text/plain": [
              "<Figure size 1000x500 with 1 Axes>"
            ],
            "image/png": "[encoded data removed]"
          },
          "metadata": {}
        }
      ]
    },
    {
      "cell_type": "markdown",
      "source": [
        "## **Visualize Delay Rates by Airport**"
      ],
      "metadata": {
        "id": "N_KYgeENkFaS"
      }
    },
    {
      "cell_type": "code",
      "source": [
        "# Plot\n",
        "top_airports.plot(kind='barh', figsize=(10, 6), color='blue')\n",
        "plt.title('Top 10 Airports with Highest Delay Rates')\n",
        "plt.xlabel('Delay Rate (%)')\n",
        "plt.ylabel('Airport')\n",
        "plt.show()"
      ],
      "metadata": {
        "colab": {
          "base_uri": "https://localhost:8080/",
          "height": 564
        },
        "id": "KvcWgSmgkDwU",
        "outputId": "4f953882-eb9a-471c-c489-fdb4e824349f"
      },
      "execution_count": null,
      "outputs": [
        {
          "output_type": "display_data",
          "data": {
            "text/plain": [
              "<Figure size 1000x600 with 1 Axes>"
            ],
            "image/png": "[encoded data removed]"
          },
          "metadata": {}
        }
      ]
    },
    {
      "cell_type": "markdown",
      "source": [
        "# **Extract to CSV for Power BI**"
      ],
      "metadata": {
        "id": "8IL4rFkL7um_"
      }
    },
    {
      "cell_type": "code",
      "source": [
        "# Save key DataFrames to CSV\n",
        "df.to_csv('cleaned_airline_delay_data.csv', index=False)"
      ],
      "metadata": {
        "id": "LsxL5USj7t4G"
      },
      "execution_count": null,
      "outputs": []
    }
  ]
}